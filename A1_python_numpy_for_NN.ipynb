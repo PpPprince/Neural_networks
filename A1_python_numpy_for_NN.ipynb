{
 "cells": [
  {
   "cell_type": "markdown",
   "metadata": {
    "id": "LuODu9z0GmUF"
   },
   "source": [
    "## Online Python tutorials\n",
    "\n",
    "* Basics: [en](https://docs.python.org/3/tutorial) / [de](https://py-tutorial-de.readthedocs.io/de/python-3.3)\n",
    "* [Numpy tutorial](https://colab.research.google.com/github/cs231n/cs231n.github.io/blob/master/python-colab.ipynb)"
   ]
  },
  {
   "cell_type": "markdown",
   "metadata": {
    "id": "l2VI6wX6GmUG"
   },
   "source": [
    "## 1. Display random walk data\n",
    "\n",
    "A random walk adds a (small) random vector to the current state $x(t)$ like this: $x(t+1) = x(t) + \\eta$, where $\\eta$ is just a random variable, e.g. uniformly distributed in range $[-1, 1]$.\n",
    "\n",
    "1. Generate a 1d random walk time series, starting from $x(0) = 0$ and display the series with matplotlib (as $x(t)$).\n",
    "2. Generate a 2d random walk time series, starting from $x(0) = 0$ and display the series with matplotlib (as $x_2(x_1)$).\n",
    "\n",
    "Avoid using any manual loops (`for` or `while`), but use numpy array functions instead. For example, look for [`cumsum`](https://docs.scipy.org/doc/numpy/reference/generated/numpy.cumsum.html)."
   ]
  },
  {
   "cell_type": "code",
   "execution_count": null,
   "metadata": {
    "id": "jzsVF_ZQGmUG"
   },
   "outputs": [],
   "source": [
    "import numpy as np\n",
    "import matplotlib.pyplot as plt\n",
    "\n",
    "eta = np.random.uniform(-1.0, 1.0, size=(100,))\n"
   ]
  },
  {
   "cell_type": "markdown",
   "metadata": {
    "id": "O-98X5GBGmUH"
   },
   "source": [
    "## 2. More Plotting\n",
    "\n",
    "1. Display the two-dimensional manifold $z=x \\cdot y$ as a [wireframe and surface plot](https://matplotlib.org/stable/tutorials/toolkits/mplot3d.html#toolkit-mplot3d-tutorial).\n",
    "Sample the data in the range $[-1,1]^2$ with 20 samples in each direction.\n",
    "\n",
    "2. Randomly select 30 images from the MNIST dataset and display them in a $5 \\times 6$ grid using subplots.\n",
    "\n",
    "Again, avoid explicit loops as far as possible."
   ]
  },
  {
   "cell_type": "markdown",
   "metadata": {
    "id": "yznWe9ZhGmUH"
   },
   "source": [
    "## 3. Tensors\n",
    "\n",
    "1. Split the MNIST data set into 120 batches á 500 samples and arrange them as a 4d tensor with the shape (120, 500, 28, 28).\n",
    "\n",
    "2. Create a new shuffling of these batches."
   ]
  },
  {
   "cell_type": "markdown",
   "metadata": {
    "id": "pNydcH4MGmUH"
   },
   "source": [
    "## 4. Broadcast Operations\n",
    "In order to perform polynomial fitting we will need to collect the powers $x^1, x^2, x^3, x^4$ of our data samples x in a design matrix A with\n",
    "\n",
    "$A_{ij} = x_i^j$\n",
    " \n",
    "Create this matrix employing numpy's vectorization and broadcasting capabilities. Don't write an explicit loop."
   ]
  },
  {
   "cell_type": "code",
   "execution_count": null,
   "metadata": {
    "id": "TYPu3bmBGmUH"
   },
   "outputs": [],
   "source": [
    "x = np.arange(-1,1,0.1)"
   ]
  },
  {
   "cell_type": "markdown",
   "metadata": {
    "id": "dhZROMY1GmUI"
   },
   "source": [
    "## 5. Timing\n",
    "\n",
    "Use [timeit](https://docs.python.org/3.8/library/timeit.html) to compare the computation time required for `naive_add` introduced [here](https://colab.research.google.com/github/rhaschke/Neural-Networks/blob/master/Intro%20Colab%2BTensors.ipynb) and numpy's vector-based *add*. For meaningful results, consider random matrices of size larger than $1000^2$."
   ]
  }
 ],
 "metadata": {
  "colab": {
   "name": "Assignement 1, Neural Network Basics",
   "provenance": []
  },
  "kernelspec": {
   "display_name": "Python 3 (ipykernel)",
   "language": "python",
   "name": "python3"
  },
  "language_info": {
   "codemirror_mode": {
    "name": "ipython",
    "version": 3
   },
   "file_extension": ".py",
   "mimetype": "text/x-python",
   "name": "python",
   "nbconvert_exporter": "python",
   "pygments_lexer": "ipython3",
   "version": "3.11.1"
  }
 },
 "nbformat": 4,
 "nbformat_minor": 4
}
